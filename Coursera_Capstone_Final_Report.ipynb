{
 "cells": [
  {
   "cell_type": "markdown",
   "metadata": {},
   "source": [
    "# Coursera Capstone"
   ]
  },
  {
   "cell_type": "markdown",
   "metadata": {},
   "source": [
    "## Problem Background"
   ]
  },
  {
   "cell_type": "markdown",
   "metadata": {},
   "source": [
    "As someone from Oklahoma, I have been raised on a steady diet of fried chicken (stereotypical but very true). For people like me, when traveling, I like to taste the various different flavors of fried chicken that different parts of the US have to have offer. The issue? Our traveler has not been to the NE so they are not sure the best cities to get a taste are."
   ]
  },
  {
   "cell_type": "markdown",
   "metadata": {},
   "source": [
    "## Data"
   ]
  },
  {
   "cell_type": "markdown",
   "metadata": {},
   "source": [
    "To get the date needed for this problem, I am using the FourSquare API to collect data about locations of fried chicken restaurants in 5 major NE US cities: New York, NY, Newark, NJ, Boston, MA, Washington D.C. and Baltimore, MD. These are five of the top 6 most populated US cities in the Northeast Megalopolis (Hempstead, NY is ranked third but discluded to give more distinct areas)."
   ]
  },
  {
   "cell_type": "markdown",
   "metadata": {},
   "source": [
    "## Project Methodology"
   ]
  },
  {
   "cell_type": "markdown",
   "metadata": {},
   "source": [
    "This project's main goal is to analyze which of the 5 cities have the most fried chicken restaurant densities. The FourSquare API venues was used to get the information, with the CategoryID set to only show fried chicken restaurants. An example of this code is:\n",
    "\n",
    "```https://api.foursquare.com/v2/venues/explore?&client_id=&client_secret=&v=20180605&New York, NY&limit=100&categoryId=4bf58dd8d48988d1ca941735```\n",
    "\n",
    "`4d4ae6fc7a7b7dea34424761` is the FourSquare CategoryID for Fried Chicken Joint. A list of all CategoryIDs can be found [here](https://developer.foursquare.com/docs/build-with-foursquare/categories/).\n",
    "The top 100 venues will be grabbed for each of the 5 cities and plotted. Lastly, the center distance between the top 100 venues will be calculated. The mean of the Euclidean distance to the center coordinate will be analyzed. The city with the smallest value will then be marked as the best city to go on a fried chicken taste adventure! 🐓"
   ]
  },
  {
   "cell_type": "code",
   "execution_count": null,
   "metadata": {},
   "outputs": [],
   "source": []
  }
 ],
 "metadata": {
  "kernelspec": {
   "display_name": "Python 3",
   "language": "python",
   "name": "python3"
  },
  "language_info": {
   "codemirror_mode": {
    "name": "ipython",
    "version": 3
   },
   "file_extension": ".py",
   "mimetype": "text/x-python",
   "name": "python",
   "nbconvert_exporter": "python",
   "pygments_lexer": "ipython3",
   "version": "3.7.7"
  }
 },
 "nbformat": 4,
 "nbformat_minor": 4
}
